{
 "cells": [
  {
   "cell_type": "markdown",
   "id": "dc988624",
   "metadata": {},
   "source": [
    "# <font color=\"green\"> OTIMIZAÇÃO LUCRO DOS PRODUTOS </font>\n",
    "***\n",
    "Para resolver este problema de otimização, podemos usar o PuLP, uma biblioteca popular de modelagem de programação linear (PL) de código aberto em Python. Aqui está um exemplo que demonstra uma complexidade média:\n",
    "Suponha que a empresa produza três produtos: A, B e C. O objetivo é determinar as quantidades ótimas de produção para cada produto, a fim de maximizar o lucro, levando em consideração as seguintes restrições:\n",
    "\n",
    "Restrição de mão de obra: O total de horas de trabalho disponíveis por dia é limitado.\n",
    "\n",
    "Restrição de matéria-prima: A disponibilidade de matéria-prima é limitada.\n",
    "\n",
    "Restrição de capacidade da máquina: A capacidade de produção das máquinas é limitada.\n",
    "\n",
    "Restrição de demanda: A empresa deve atender à demanda de cada produto.\n",
    "\n",
    "Vamos supor que tenhamos os seguintes dados:\n",
    "\n",
    "1. Lucro unitário: A (10), B (15), C (12);\n",
    "\n",
    "2. Mão de obra necessária por unidade do produto (UP): A (2 horas), B (3 horas), C (2 horas);\n",
    "\n",
    "3. Matéria-prima necessária por UP: A (1 unidade), B (2 unidades), C (1 unidade);\n",
    "\n",
    "4. Tempo de máquina necessário por UP: A (4 horas), B (2 horas), C (3 horas);\n",
    "\n",
    "5. Mão de obra disponível por dia: 60 horas;\n",
    "\n",
    "6. Matéria-prima disponível por dia: 50 unidades;\n",
    "\n",
    "7. Capacidade da máquina por dia: 80 horas;\n",
    "\n",
    "8. Demanda por dia: A (10 unidades), B (8 unidades), C (12 unidades);\n",
    "\n",
    "Aqui está um trecho de código usando o PuLP para resolver o problema de otimização:"
   ]
  },
  {
   "cell_type": "code",
   "execution_count": 21,
   "id": "7e315090",
   "metadata": {},
   "outputs": [],
   "source": [
    "from pulp import *"
   ]
  },
  {
   "cell_type": "code",
   "execution_count": 22,
   "id": "21a6d126",
   "metadata": {},
   "outputs": [],
   "source": [
    "# Criação do problema de maximização\n",
    "prob = LpProblem(\"Maximização_de_Lucro\", LpMaximize)"
   ]
  },
  {
   "cell_type": "code",
   "execution_count": 23,
   "id": "e4bfa1d4",
   "metadata": {},
   "outputs": [],
   "source": [
    "# Variáveis de decisão\n",
    "A = LpVariable(\"Quantidade de A\", lowBound=0, cat='Integer')\n",
    "B = LpVariable(\"Quantidade de B\", lowBound=0, cat='Integer')\n",
    "C = LpVariable(\"Quantidade de C\", lowBound=0, cat='Integer')"
   ]
  },
  {
   "cell_type": "code",
   "execution_count": 24,
   "id": "f79298f8",
   "metadata": {},
   "outputs": [],
   "source": [
    "# Função objetivo\n",
    "prob += 10*A + 15*B + 12*C"
   ]
  },
  {
   "cell_type": "code",
   "execution_count": 25,
   "id": "44d35276",
   "metadata": {},
   "outputs": [],
   "source": [
    "# Restrições\n",
    "prob += 2*A + 3*B + 2*C <= 60  # Restrição de mão de obra\n",
    "prob += A + 2*B + C <= 50  # Restrição de matéria-prima\n",
    "prob += 4*A + 2*B + 3*C <= 80  # Restrição de capacidade da máquina\n",
    "prob += A <= 10  # Restrição de demanda de A\n",
    "prob += B <= 8  # Restrição de demanda de B\n",
    "prob += C <= 12  # Restrição de demanda de C"
   ]
  },
  {
   "cell_type": "code",
   "execution_count": 26,
   "id": "42cd0df4",
   "metadata": {},
   "outputs": [
    {
     "data": {
      "text/plain": [
       "<bound method LpProblem.writeLP of Maximização_de_Lucro:\n",
       "MAXIMIZE\n",
       "10*Quantidade_de_A + 15*Quantidade_de_B + 12*Quantidade_de_C + 0\n",
       "SUBJECT TO\n",
       "_C1: 2 Quantidade_de_A + 3 Quantidade_de_B + 2 Quantidade_de_C <= 60\n",
       "\n",
       "_C2: Quantidade_de_A + 2 Quantidade_de_B + Quantidade_de_C <= 50\n",
       "\n",
       "_C3: 4 Quantidade_de_A + 2 Quantidade_de_B + 3 Quantidade_de_C <= 80\n",
       "\n",
       "_C4: Quantidade_de_A <= 10\n",
       "\n",
       "_C5: Quantidade_de_B <= 8\n",
       "\n",
       "_C6: Quantidade_de_C <= 12\n",
       "\n",
       "VARIABLES\n",
       "0 <= Quantidade_de_A Integer\n",
       "0 <= Quantidade_de_B Integer\n",
       "0 <= Quantidade_de_C Integer\n",
       ">"
      ]
     },
     "execution_count": 26,
     "metadata": {},
     "output_type": "execute_result"
    }
   ],
   "source": [
    "# Como está a definição do problema\n",
    "prob.writeLP"
   ]
  },
  {
   "cell_type": "code",
   "execution_count": 27,
   "id": "2e276294",
   "metadata": {},
   "outputs": [
    {
     "data": {
      "text/plain": [
       "1"
      ]
     },
     "execution_count": 27,
     "metadata": {},
     "output_type": "execute_result"
    }
   ],
   "source": [
    "# Resolvendo o problema\n",
    "prob.solve()"
   ]
  },
  {
   "cell_type": "code",
   "execution_count": 28,
   "id": "a5883ce6",
   "metadata": {},
   "outputs": [
    {
     "name": "stdout",
     "output_type": "stream",
     "text": [
      "Status: Optimal\n"
     ]
    }
   ],
   "source": [
    "# Status da solução\n",
    "print(\"Status:\", LpStatus[prob.status])"
   ]
  },
  {
   "cell_type": "code",
   "execution_count": 29,
   "id": "fdbb8455",
   "metadata": {},
   "outputs": [
    {
     "name": "stdout",
     "output_type": "stream",
     "text": [
      "Quantidade_de_A = 6.0\n",
      "Quantidade_de_B = 8.0\n",
      "Quantidade_de_C = 12.0\n"
     ]
    }
   ],
   "source": [
    "# Resultados\n",
    "for v in prob.variables():\n",
    "    print(v.name, \"=\", v.varValue)"
   ]
  },
  {
   "cell_type": "code",
   "execution_count": 30,
   "id": "bfc2cdc9",
   "metadata": {},
   "outputs": [
    {
     "name": "stdout",
     "output_type": "stream",
     "text": [
      "Lucro máximo = $ 324.0\n"
     ]
    }
   ],
   "source": [
    "# Valor ótimo da função objetivo\n",
    "print(\"Lucro máximo = $\", value(prob.objective))"
   ]
  },
  {
   "cell_type": "code",
   "execution_count": null,
   "id": "d34e1cc9",
   "metadata": {},
   "outputs": [],
   "source": []
  },
  {
   "cell_type": "code",
   "execution_count": null,
   "id": "de0ac435",
   "metadata": {},
   "outputs": [],
   "source": []
  },
  {
   "cell_type": "code",
   "execution_count": null,
   "id": "d12e7f1d",
   "metadata": {},
   "outputs": [],
   "source": []
  }
 ],
 "metadata": {
  "kernelspec": {
   "display_name": "Python 3 (ipykernel)",
   "language": "python",
   "name": "python3"
  },
  "language_info": {
   "codemirror_mode": {
    "name": "ipython",
    "version": 3
   },
   "file_extension": ".py",
   "mimetype": "text/x-python",
   "name": "python",
   "nbconvert_exporter": "python",
   "pygments_lexer": "ipython3",
   "version": "3.9.16"
  }
 },
 "nbformat": 4,
 "nbformat_minor": 5
}
