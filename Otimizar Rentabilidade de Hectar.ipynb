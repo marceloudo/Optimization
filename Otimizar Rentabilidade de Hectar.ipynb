{
 "cells": [
  {
   "cell_type": "markdown",
   "id": "c3d65593",
   "metadata": {},
   "source": [
    "# <font color=\"green\"> Otimização de Hectares</font>\n",
    "***\n",
    "Um agricultor dispõe de 100 hectares (ha) de terreno para produzir batatas ou milho para o gado. \n",
    "\n",
    "1. O agricultor tem 1 trator (com tratorista) e 2 trabalhadores; \n",
    "2. Cada ha de batatas exige 25 horas anuais de trator e 10 horas anuais de trabalho manual; \n",
    "3. A produção de 1 ha de batatas gera o rendimento líquido anual de 200 euros e 1 ha de milho gera o rendimento líquido anual de 250 euros; \n",
    "4. O trator pode trabalhar 2000 horas por ano e cada trabalhador também não dispõe de mais 2000 horas de trabalho por ano. \n",
    "\n",
    "O agricultor pretende otimizar o lucro anual da produção."
   ]
  },
  {
   "cell_type": "markdown",
   "id": "5c1858a3",
   "metadata": {},
   "source": [
    "## <font color=\"green\">Formulação do Problema</font>\n",
    "***\n",
    "Max Z = 200B + 250M\n",
    "\\begin{cases}\n",
    "25B & + & 10M & ≤ & 2000\\\\\n",
    "10B & + & 50B & ≤ & 4000\\\\\n",
    "B & + & M & ≤ & 100\\\\\n",
    "B, M & & & ≥ & 0 \n",
    "\\end{cases}"
   ]
  },
  {
   "cell_type": "code",
   "execution_count": 1,
   "id": "40767b81",
   "metadata": {},
   "outputs": [],
   "source": [
    "from pulp import *"
   ]
  },
  {
   "cell_type": "code",
   "execution_count": 2,
   "id": "a8add358",
   "metadata": {},
   "outputs": [],
   "source": [
    "# Criação do problema de maximização\n",
    "prob = LpProblem(\"Maximização_de_Hectare\", LpMaximize)"
   ]
  },
  {
   "cell_type": "code",
   "execution_count": 3,
   "id": "c1b7d0fc",
   "metadata": {},
   "outputs": [],
   "source": [
    "# Variáveis de decisão\n",
    "B = LpVariable(\"Para Batata\", lowBound=0)\n",
    "M = LpVariable(\"Para Milho\", lowBound=0)\n"
   ]
  },
  {
   "cell_type": "code",
   "execution_count": 4,
   "id": "e46e8db2",
   "metadata": {},
   "outputs": [],
   "source": [
    "# Função objetivo\n",
    "prob += 200*B + 250*M"
   ]
  },
  {
   "cell_type": "code",
   "execution_count": 7,
   "id": "4a86201d",
   "metadata": {},
   "outputs": [],
   "source": [
    "# Restrições\n",
    "prob += 25*B + 10*M <= 2000  # Trator para o ha de Batatas e Milho\n",
    "prob += 10*B + 50*M <= 4000  # Trabalho manual\n",
    "prob += B + M <= 100  # 100 hectares\n"
   ]
  },
  {
   "cell_type": "code",
   "execution_count": 8,
   "id": "59463bec",
   "metadata": {},
   "outputs": [
    {
     "data": {
      "text/plain": [
       "<bound method LpProblem.writeLP of Maximização_de_Hectare:\n",
       "MAXIMIZE\n",
       "200*Para_Batata + 250*Para_Milho + 0\n",
       "SUBJECT TO\n",
       "_C1: 25 Para_Batata + 10 Para_Milho <= 2000\n",
       "\n",
       "_C2: 10 Para_Batata + 50 Para_Milho <= 4000\n",
       "\n",
       "_C3: Para_Batata + Para_Milho <= 100\n",
       "\n",
       "_C4: 25 Para_Batata + 10 Para_Milho <= 2000\n",
       "\n",
       "_C5: 10 Para_Batata + 50 Para_Milho <= 4000\n",
       "\n",
       "_C6: Para_Batata + Para_Milho <= 100\n",
       "\n",
       "VARIABLES\n",
       "Para_Batata Continuous\n",
       "Para_Milho Continuous\n",
       ">"
      ]
     },
     "execution_count": 8,
     "metadata": {},
     "output_type": "execute_result"
    }
   ],
   "source": [
    "# Como está a definição do problema\n",
    "prob.writeLP"
   ]
  },
  {
   "cell_type": "code",
   "execution_count": 9,
   "id": "21a5418f",
   "metadata": {},
   "outputs": [
    {
     "data": {
      "text/plain": [
       "1"
      ]
     },
     "execution_count": 9,
     "metadata": {},
     "output_type": "execute_result"
    }
   ],
   "source": [
    "# Resolvendo o problema\n",
    "prob.solve()"
   ]
  },
  {
   "cell_type": "code",
   "execution_count": 10,
   "id": "99054f4f",
   "metadata": {},
   "outputs": [
    {
     "name": "stdout",
     "output_type": "stream",
     "text": [
      "Status: Optimal\n"
     ]
    }
   ],
   "source": [
    "# Status da solução\n",
    "print(\"Status:\", LpStatus[prob.status])"
   ]
  },
  {
   "cell_type": "code",
   "execution_count": 11,
   "id": "450333fb",
   "metadata": {},
   "outputs": [
    {
     "name": "stdout",
     "output_type": "stream",
     "text": [
      "Para_Batata = 25.0\n",
      "Para_Milho = 75.0\n"
     ]
    }
   ],
   "source": [
    "# Resultados\n",
    "for v in prob.variables():\n",
    "    print(v.name, \"=\", v.varValue)"
   ]
  },
  {
   "cell_type": "code",
   "execution_count": 14,
   "id": "5e594afa",
   "metadata": {},
   "outputs": [
    {
     "name": "stdout",
     "output_type": "stream",
     "text": [
      "Rentabilidade anual = $ 23750.00\n"
     ]
    }
   ],
   "source": [
    "# Valor ótimo da função objetivo\n",
    "print(\"Rentabilidade anual = $\", f\"{value(prob.objective):.2f}\")"
   ]
  },
  {
   "cell_type": "code",
   "execution_count": null,
   "id": "c253ad2c",
   "metadata": {},
   "outputs": [],
   "source": []
  }
 ],
 "metadata": {
  "kernelspec": {
   "display_name": "Python 3 (ipykernel)",
   "language": "python",
   "name": "python3"
  },
  "language_info": {
   "codemirror_mode": {
    "name": "ipython",
    "version": 3
   },
   "file_extension": ".py",
   "mimetype": "text/x-python",
   "name": "python",
   "nbconvert_exporter": "python",
   "pygments_lexer": "ipython3",
   "version": "3.9.16"
  }
 },
 "nbformat": 4,
 "nbformat_minor": 5
}
