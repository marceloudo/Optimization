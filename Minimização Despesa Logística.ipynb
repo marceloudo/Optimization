{
 "cells": [
  {
   "cell_type": "markdown",
   "id": "38a1d01e",
   "metadata": {},
   "source": [
    "# <font color='green'>Minimização das Despesas de Logística de Distribuição</font>\n",
    "***\n",
    "A empresa Horta Certa Ltda produz um certo tipo de enlatados em 3 fábricas localizadas em Trás-os-Montes e distribuí-los em mercados da zona Centro. A matriz seguinte representa os custos unitários de transporte em u.m., as capacidades de produção das fábricas e a procura dos mercados destinos.\n",
    "\n",
    "<html>\n",
    "<head>\n",
    "    <style>\n",
    "        table, th, td {\n",
    "            font size: 4;\n",
    "            border: 1px solid black;\n",
    "            border-collapse: collapse;\n",
    "            padding: 8px;\n",
    "        }\n",
    "    </style>\n",
    "</head>\n",
    "<body>\n",
    "    <table>\n",
    "        <tr>\n",
    "            <th colspan=\"2\" style=\"text-align: center; font-size: 20px;\">Problema Logístico de Distribuição</th>\n",
    "        </tr>\n",
    "        <tr>\n",
    "            <td><img src=\"https://drive.google.com/uc?export=view&amp;id=1kZcTvqYlk5ULy-guyQuouh9V-6J9rbrV\" align='center' heigh=70 width=120/></td>\n",
    "            <td><img src=\"https://drive.google.com/uc?export=view&amp;id=1qe3P1pHqduyN5U4wkCTXCExrB8I2Un9e\" align='left' heigh=300 width=650/></td>\n",
    "        </tr>\n",
    "    </table>\n",
    "</body>\n",
    "</html>\n",
    "\n",
    "\n",
    "Fonte: Métodos Quantitativos com Excel - Adelaide Carvalho\n",
    "<br>\n",
    "\n"
   ]
  },
  {
   "cell_type": "markdown",
   "id": "5564eb69",
   "metadata": {},
   "source": [
    "## <font color=\"green\">Formulação do Problema</font>\n",
    "***\n",
    "### <font color=\"green\">1. Variáveis de decisão e restrições:</font>\n",
    "    Quantidade fornecida pela fábrica(i) ao mercado(j):\n",
    "    Qij onde i=1,2,3 e j=1,2,3,4"
   ]
  },
  {
   "cell_type": "markdown",
   "id": "d9e117d1",
   "metadata": {},
   "source": [
    "### <font color=\"green\">2. Função Objetiva:</font>\n",
    "***\n",
    "$Min Z =$ \n",
    "$4,64Q_{1,1} + 5,13Q_{1,2} + 6,54Q_{1,3} + 8,67Q_{1,4}$\n",
    "$3,52Q_{2,1} + 4,16Q_{2,2} + 6,90Q_{2,3} + 7,91Q_{2,4}$\n",
    "$3,52Q_{2,1} + 4,16Q_{3,2} + 3,88Q_{3,3} + 6,85Q_{3,4}$"
   ]
  },
  {
   "cell_type": "markdown",
   "id": "4b669c20",
   "metadata": {},
   "source": [
    "### <font color=\"green\">3. Restrições:</font>\n",
    "***\n",
    "\\begin{cases}\n",
    "Q_{1,1} & + & Q_{1,2} & + & Q_{1,3} & + & Q_{1,4} ≤ & 75 & (Fábrica 1)\\\\\n",
    "Q_{2,1} & + & Q_{2,2} & + & Q_{2,3} & + & Q_{2,4} ≤ & 125 & (Fábrica 2)\\\\\n",
    "Q_{3,1} & + & Q_{3,2} & + & Q_{3,3} & + & Q_{3,4} ≤ & 100 & (Fábrica 3)\\\\\n",
    "Q_{1,1} & + & Q_{2,1} & + & Q_{3,1} = & 80 & & & (Armazém 1)\\\\\n",
    "Q_{1,2} & + & Q_{2,2} & + & Q_{3,2} = & 65 & & & (Armazém 2)\\\\\n",
    "Q_{1,3} & + & Q_{2,3} & + & Q_{3,3} = & 70 & & & (Armazém 3)\\\\\n",
    "Q_{1,4} & + & Q_{2,4} & + & Q_{3,4} = & 85 & & & (Armazém 4)\\\\\n",
    "Q_{i,j} ≥ & 0\n",
    "\\end{cases}"
   ]
  },
  {
   "cell_type": "code",
   "execution_count": 149,
   "id": "dd0f6f7f",
   "metadata": {},
   "outputs": [],
   "source": [
    "from pulp import *"
   ]
  },
  {
   "cell_type": "code",
   "execution_count": 150,
   "id": "6aaad22f",
   "metadata": {},
   "outputs": [],
   "source": [
    "# Criação do problema de minimização\n",
    "prob = LpProblem(\"Minimização_Despesas_Logísticas\", LpMinimize)"
   ]
  },
  {
   "cell_type": "code",
   "execution_count": 151,
   "id": "5cdd3504",
   "metadata": {},
   "outputs": [],
   "source": [
    "# Variáveis de decisão\n",
    "Q11 = LpVariable(\"VilaReal-Aveiro\", lowBound=0)\n",
    "Q12 = LpVariable(\"VilaReal-Coimbra\", lowBound=0)\n",
    "Q13 = LpVariable(\"VilaReal-Alcobaça\", lowBound=0)\n",
    "Q14 = LpVariable(\"VilaReal-Leiria\", lowBound=0)\n",
    "\n",
    "Q21 = LpVariable(\"Valpaços-Aveiro\", lowBound=0)\n",
    "Q22 = LpVariable(\"Valpaços-Coimbra\", lowBound=0)\n",
    "Q23 = LpVariable(\"Valpaços-Alcobaça\", lowBound=0)\n",
    "Q24 = LpVariable(\"Valpaços-Leiria\", lowBound=0)\n",
    "\n",
    "Q31 = LpVariable(\"Vilarandelo-Aveiro\", lowBound=0)\n",
    "Q32 = LpVariable(\"Vilarandelo-Coimbra\", lowBound=0)\n",
    "Q33 = LpVariable(\"Vilarandelo-Alcobaça\", lowBound=0)\n",
    "Q34 = LpVariable(\"Vilarandelo-Leiria\", lowBound=0)\n"
   ]
  },
  {
   "cell_type": "code",
   "execution_count": 152,
   "id": "6139a6df",
   "metadata": {},
   "outputs": [],
   "source": [
    "# Função objetivo\n",
    "prob += 4.64*Q11 + 5.13*Q12 + 6.54*Q13 + 8.67*Q14 +3.52*Q21 + 4.16*Q22 + 6.90*Q23 + 7.91*Q24 + 3.52*Q31 + 4.16*Q32 + 3.88*Q33 + 6.85*Q34"
   ]
  },
  {
   "cell_type": "code",
   "execution_count": 153,
   "id": "b391fdc2",
   "metadata": {},
   "outputs": [],
   "source": [
    "# Restrições\n",
    "prob += Q11 + Q12 + Q13 + Q14 <= 75  \n",
    "prob += Q21 + Q22 + Q23 + Q24 <= 125  \n",
    "prob += Q31 + Q32 + Q33 + Q34 <= 100\n",
    "prob += Q11 + Q21 + Q31 == 80\n",
    "prob += Q12 + Q22 + Q32 == 65\n",
    "prob += Q13 + Q23 + Q33 == 70\n",
    "prob += Q14 + Q24 + Q34 == 85"
   ]
  },
  {
   "cell_type": "code",
   "execution_count": 154,
   "id": "3b658f63",
   "metadata": {},
   "outputs": [
    {
     "data": {
      "text/plain": [
       "<bound method LpProblem.writeLP of Minimização_Despesas_Logísticas:\n",
       "MINIMIZE\n",
       "6.9*Valpaços_Alcobaça + 3.52*Valpaços_Aveiro + 4.16*Valpaços_Coimbra + 7.91*Valpaços_Leiria + 6.54*VilaReal_Alcobaça + 4.64*VilaReal_Aveiro + 5.13*VilaReal_Coimbra + 8.67*VilaReal_Leiria + 3.88*Vilarandelo_Alcobaça + 3.52*Vilarandelo_Aveiro + 4.16*Vilarandelo_Coimbra + 6.85*Vilarandelo_Leiria + 0.0\n",
       "SUBJECT TO\n",
       "_C1: VilaReal_Alcobaça + VilaReal_Aveiro + VilaReal_Coimbra + VilaReal_Leiria\n",
       " <= 75\n",
       "\n",
       "_C2: Valpaços_Alcobaça + Valpaços_Aveiro + Valpaços_Coimbra + Valpaços_Leiria\n",
       " <= 125\n",
       "\n",
       "_C3: Vilarandelo_Alcobaça + Vilarandelo_Aveiro + Vilarandelo_Coimbra\n",
       " + Vilarandelo_Leiria <= 100\n",
       "\n",
       "_C4: Valpaços_Aveiro + VilaReal_Aveiro + Vilarandelo_Aveiro = 80\n",
       "\n",
       "_C5: Valpaços_Coimbra + VilaReal_Coimbra + Vilarandelo_Coimbra = 65\n",
       "\n",
       "_C6: Valpaços_Alcobaça + VilaReal_Alcobaça + Vilarandelo_Alcobaça = 70\n",
       "\n",
       "_C7: Valpaços_Leiria + VilaReal_Leiria + Vilarandelo_Leiria = 85\n",
       "\n",
       "VARIABLES\n",
       "Valpaços_Alcobaça Continuous\n",
       "Valpaços_Aveiro Continuous\n",
       "Valpaços_Coimbra Continuous\n",
       "Valpaços_Leiria Continuous\n",
       "VilaReal_Alcobaça Continuous\n",
       "VilaReal_Aveiro Continuous\n",
       "VilaReal_Coimbra Continuous\n",
       "VilaReal_Leiria Continuous\n",
       "Vilarandelo_Alcobaça Continuous\n",
       "Vilarandelo_Aveiro Continuous\n",
       "Vilarandelo_Coimbra Continuous\n",
       "Vilarandelo_Leiria Continuous\n",
       ">"
      ]
     },
     "execution_count": 154,
     "metadata": {},
     "output_type": "execute_result"
    }
   ],
   "source": [
    "# Como está a definição do problema\n",
    "prob.writeLP"
   ]
  },
  {
   "cell_type": "code",
   "execution_count": 155,
   "id": "7ed55353",
   "metadata": {},
   "outputs": [
    {
     "data": {
      "text/plain": [
       "1"
      ]
     },
     "execution_count": 155,
     "metadata": {},
     "output_type": "execute_result"
    }
   ],
   "source": [
    "# Resolvendo o problema\n",
    "prob.solve()"
   ]
  },
  {
   "cell_type": "code",
   "execution_count": 156,
   "id": "eecbdb3d",
   "metadata": {},
   "outputs": [
    {
     "name": "stdout",
     "output_type": "stream",
     "text": [
      "Status: Optimal\n"
     ]
    }
   ],
   "source": [
    "# Status da solução\n",
    "print(\"Status:\", LpStatus[prob.status])"
   ]
  },
  {
   "cell_type": "code",
   "execution_count": 157,
   "id": "f187c987",
   "metadata": {
    "scrolled": true
   },
   "outputs": [
    {
     "name": "stdout",
     "output_type": "stream",
     "text": [
      "Valpaços_Alcobaça = 0.0\n",
      "Valpaços_Aveiro = 80.0\n",
      "Valpaços_Coimbra = 45.0\n",
      "Valpaços_Leiria = 0.0\n",
      "VilaReal_Alcobaça = 0.0\n",
      "VilaReal_Aveiro = 0.0\n",
      "VilaReal_Coimbra = 20.0\n",
      "VilaReal_Leiria = 55.0\n",
      "Vilarandelo_Alcobaça = 70.0\n",
      "Vilarandelo_Aveiro = 0.0\n",
      "Vilarandelo_Coimbra = 0.0\n",
      "Vilarandelo_Leiria = 30.0\n"
     ]
    }
   ],
   "source": [
    "# Resultados\n",
    "for v in prob.variables():\n",
    "    print(v.name, \"=\", v.varValue)"
   ]
  },
  {
   "cell_type": "code",
   "execution_count": 158,
   "id": "26cb657a",
   "metadata": {},
   "outputs": [
    {
     "name": "stdout",
     "output_type": "stream",
     "text": [
      "Rentabilidade anual = $ 1525.35\n"
     ]
    }
   ],
   "source": [
    "# Valor ótimo da função objetivo\n",
    "print(\"Rentabilidade anual = $\", f\"{value(prob.objective):.2f}\")"
   ]
  },
  {
   "cell_type": "markdown",
   "id": "60242275",
   "metadata": {},
   "source": [
    "### <font color=\"green\">Resultado da Distribuição Logística com menor despesa</font>\n",
    "***\n",
    "Verdadeiro é o checking entre linha de total com os mercados e a coluna de total com as fábricas.\n",
    "<br>\n",
    "<img src=\"https://drive.google.com/uc?export=view&amp;id=1ON7MsV1yIIjL8eo8LP_aJ6TMdbJL_OJ9\" align='center' heigh=250 width=600/>\n",
    "<br>\n"
   ]
  },
  {
   "cell_type": "code",
   "execution_count": null,
   "id": "8bc3b2b3",
   "metadata": {},
   "outputs": [],
   "source": []
  }
 ],
 "metadata": {
  "kernelspec": {
   "display_name": "Python 3 (ipykernel)",
   "language": "python",
   "name": "python3"
  },
  "language_info": {
   "codemirror_mode": {
    "name": "ipython",
    "version": 3
   },
   "file_extension": ".py",
   "mimetype": "text/x-python",
   "name": "python",
   "nbconvert_exporter": "python",
   "pygments_lexer": "ipython3",
   "version": "3.9.12"
  }
 },
 "nbformat": 4,
 "nbformat_minor": 5
}
