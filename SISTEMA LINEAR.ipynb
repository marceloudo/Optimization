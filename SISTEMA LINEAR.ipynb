{
 "cells": [
  {
   "cell_type": "markdown",
   "id": "60354428",
   "metadata": {},
   "source": [
    "# <font color=\"green\"> SISTEMAS LINEARES </font>\n",
    "****\n",
    "Objetivo: demonstrar a leitura de um texto para elaborar o problema matemático e como resolver em python."
   ]
  },
  {
   "cell_type": "code",
   "execution_count": 110,
   "id": "2bfad079",
   "metadata": {},
   "outputs": [],
   "source": [
    "import numpy as np"
   ]
  },
  {
   "cell_type": "code",
   "execution_count": 111,
   "id": "463ea541",
   "metadata": {},
   "outputs": [],
   "source": [
    "from numpy.linalg import inv"
   ]
  },
  {
   "cell_type": "markdown",
   "id": "aa376ea1",
   "metadata": {},
   "source": [
    "<img align=\"left\" src=\"LPsolve.png\"/>"
   ]
  },
  {
   "cell_type": "code",
   "execution_count": 112,
   "id": "6252e72b",
   "metadata": {},
   "outputs": [
    {
     "data": {
      "text/plain": [
       "array([ 1.21052632, -0.68421053])"
      ]
     },
     "execution_count": 112,
     "metadata": {},
     "output_type": "execute_result"
    }
   ],
   "source": [
    "# 2 Colchetes pq se trata de uma Matriz\n",
    "A = np.array([[2,5],[3,-2]]) \n",
    "# Os resultados das equações no vetor abaixo, que possui apenas um colchete\n",
    "B = np.array([-1,5])\n",
    "\n",
    "A_inversa = inv(A)\n",
    "# No matmult, a inversa é o primeiro argumento.\n",
    "resultado = np.matmul(A_inversa, B) \n",
    "resultado"
   ]
  },
  {
   "cell_type": "code",
   "execution_count": 113,
   "id": "c12c2df7",
   "metadata": {},
   "outputs": [],
   "source": [
    "# Doutro modo, podemos usar o solve\n",
    "from numpy.linalg import solve"
   ]
  },
  {
   "cell_type": "code",
   "execution_count": 114,
   "id": "a026369a",
   "metadata": {},
   "outputs": [
    {
     "data": {
      "text/plain": [
       "array([ 1.21052632, -0.68421053])"
      ]
     },
     "execution_count": 114,
     "metadata": {},
     "output_type": "execute_result"
    }
   ],
   "source": [
    "resultado2 = solve(A,B)\n",
    "resultado2"
   ]
  },
  {
   "cell_type": "markdown",
   "id": "a7494126",
   "metadata": {},
   "source": [
    "# <font color=\"green\"> Exercício Fictício de Fixação </font>\n",
    "----\n",
    "O BS tem um montante que ele pode empregar na PMA.\n",
    "\n",
    "Mas para aceitar um risco relativo, o BS decidiu dividir os investimentos na Caraíba (alto risco - Xa), Eluma-Utinga (médio risco - Xm) e Eluma Serra (baixo risco - Xb).\n",
    "O BS estima um retorno de 15% ao ano em alto risco, 10% no médio e 6% no de baixo risco.\n",
    "Os membros do BS decidiram que o investimento de baixo risco deve ser igual a soma das outras duas categorias.\n",
    "\n",
    "Determine quanto o BS deve investir em cada tipo de investimento com o seguinte cenário:\n",
    "O BS tem R$ 10.000.000 para investir e o objetivo do investimento é ter um retorno 1000.000/ano sobre o total investido.\n",
    "\n",
    "\\begin{cases}\n",
    "0,15x_a & + & 0,10x_m & + & 0,06x_b & = & 1.000.000\\\\\n",
    "x_b = & x_a & + & x_m\\\\\n",
    "x_a & + & x_m & + & x_b & = & 10.000.000\n",
    "\\end{cases}"
   ]
  },
  {
   "cell_type": "code",
   "execution_count": 115,
   "id": "c8a798c6",
   "metadata": {},
   "outputs": [
    {
     "name": "stdout",
     "output_type": "stream",
     "text": [
      "Os membros do BS decidiram dar anuência ao investimento com a seguinte divisão dos valores:\n",
      "1. Caraíba ficará com R$ 4000000.00;\n",
      "2. Eluma (Utinga) com R$ 1000000.00;\n",
      "3. Eluma (Serra) com R$ 5000000.00.\n"
     ]
    }
   ],
   "source": [
    "A = np.array([[0.15, 0.10, 0.06], [-1, -1, 1], [1, 1, 1]])\n",
    "B = np.array([1000000, 0, 10000000])\n",
    "\n",
    "BS_Investimento = solve(A, B)\n",
    "\n",
    "Caraiba, Eluma_SP, Eluma_ES = BS_Investimento\n",
    "\n",
    "mensagem = (\n",
    "    f\"Os membros do BS decidiram dar anuência ao investimento com a seguinte divisão dos valores:\\n\"\n",
    "    f\"1. Caraíba ficará com R$ {Caraiba:.2f};\\n\"\n",
    "    f\"2. Eluma (Utinga) com R$ {Eluma_SP:.2f};\\n\"\n",
    "    f\"3. Eluma (Serra) com R$ {Eluma_ES:.2f}.\"\n",
    ")\n",
    "\n",
    "print(mensagem.strip())"
   ]
  },
  {
   "cell_type": "code",
   "execution_count": 116,
   "id": "1c925780",
   "metadata": {},
   "outputs": [],
   "source": [
    "from scipy.optimize import linprog"
   ]
  },
  {
   "cell_type": "code",
   "execution_count": 117,
   "id": "8ae3e4de",
   "metadata": {},
   "outputs": [],
   "source": [
    "obj = [-2, -1] # objective function\n",
    "lhs = [[2, 1], [-5, 4], [-1, 4]] # coeficientes lhs\n",
    "rhs = [22, 15, 12] # coeficientes rhs\n",
    "\n",
    "# para experimentação\n",
    "lhs_eq = [[-1, 4]]\n",
    "rhs_eq = [16]\n"
   ]
  },
  {
   "cell_type": "code",
   "execution_count": 118,
   "id": "67716af7",
   "metadata": {},
   "outputs": [],
   "source": [
    "# fronteira de decisão das variáveis\n",
    "bnd = [(0, float('inf')), (0, float('inf'))]"
   ]
  },
  {
   "cell_type": "code",
   "execution_count": 119,
   "id": "9a8dfbcb",
   "metadata": {},
   "outputs": [
    {
     "data": {
      "text/plain": [
       "        message: Optimization terminated successfully. (HiGHS Status 7: Optimal)\n",
       "        success: True\n",
       "         status: 0\n",
       "            fun: -22.0\n",
       "              x: [ 1.100e+01  0.000e+00]\n",
       "            nit: 0\n",
       "          lower:  residual: [ 1.100e+01  0.000e+00]\n",
       "                 marginals: [ 0.000e+00  0.000e+00]\n",
       "          upper:  residual: [       inf        inf]\n",
       "                 marginals: [ 0.000e+00  0.000e+00]\n",
       "          eqlin:  residual: []\n",
       "                 marginals: []\n",
       "        ineqlin:  residual: [ 0.000e+00  7.000e+01  2.300e+01]\n",
       "                 marginals: [-1.000e+00 -0.000e+00 -0.000e+00]\n",
       " mip_node_count: 0\n",
       " mip_dual_bound: 0.0\n",
       "        mip_gap: 0.0"
      ]
     },
     "execution_count": 119,
     "metadata": {},
     "output_type": "execute_result"
    }
   ],
   "source": [
    "optimization = linprog(c=obj, A_ub=lhs, b_ub=rhs,\n",
    "                       bounds=bnd,\n",
    "                       method='highs')\n",
    "optimization"
   ]
  },
  {
   "cell_type": "markdown",
   "id": "7d46ffac",
   "metadata": {},
   "source": [
    "## <font color=\"green\">Maximização do Lotes de Roupas </font>\n",
    "****\n",
    "Um vendedor dispõe de 84 pares de meias de lã e 24 pares de meias de algodão, que pretende vender em lotes A e B:\n",
    "\n",
    "1 - Lote A composto por 4 pares de meias de lã e 2 pares de meias de algodão;\n",
    "\n",
    "2 - Lote B composto por 8 pares de meias de lã e 2 pares de meias de algodão;\n",
    "\n",
    "Os preços de venda dos lotes A e B são, respectivamente, 6 e 8 unidades monetárias.\n",
    "O vendedor quer saber o número de lotes A e B que deve vender para maximizar as receitas."
   ]
  },
  {
   "cell_type": "code",
   "execution_count": 120,
   "id": "e3b108d0",
   "metadata": {},
   "outputs": [],
   "source": [
    "from pulp import *"
   ]
  },
  {
   "cell_type": "code",
   "execution_count": 121,
   "id": "13107610",
   "metadata": {},
   "outputs": [],
   "source": [
    "# Função Objetiva\n",
    "max_z = pulp.LpProblem('Maximizar_Rentabilidade', LpMaximize)"
   ]
  },
  {
   "cell_type": "code",
   "execution_count": 122,
   "id": "5c1d40f6",
   "metadata": {},
   "outputs": [],
   "source": [
    "# Variáveis de decisão\n",
    "A = LpVariable(\"Quantidade de A\", lowBound=0)\n",
    "B = LpVariable(\"Quantidade de B\", lowBound=0)"
   ]
  },
  {
   "cell_type": "code",
   "execution_count": 123,
   "id": "18dca6a7",
   "metadata": {},
   "outputs": [],
   "source": [
    "# Função Objetiva (cont.)\n",
    "max_z += 6 * A + 8 * B"
   ]
  },
  {
   "cell_type": "code",
   "execution_count": 124,
   "id": "762e8502",
   "metadata": {},
   "outputs": [],
   "source": [
    "# Restrições\n",
    "max_z += 4*A + 8*B <= 84\n",
    "max_z += 2*A + 2*B <= 24"
   ]
  },
  {
   "cell_type": "code",
   "execution_count": 125,
   "id": "00e89e0a",
   "metadata": {},
   "outputs": [
    {
     "data": {
      "text/plain": [
       "<bound method LpProblem.writeLP of Maximizar_Rentabilidade:\n",
       "MAXIMIZE\n",
       "6*Quantidade_de_A + 8*Quantidade_de_B + 0\n",
       "SUBJECT TO\n",
       "_C1: 4 Quantidade_de_A + 8 Quantidade_de_B <= 84\n",
       "\n",
       "_C2: 2 Quantidade_de_A + 2 Quantidade_de_B <= 24\n",
       "\n",
       "VARIABLES\n",
       "Quantidade_de_A Continuous\n",
       "Quantidade_de_B Continuous\n",
       ">"
      ]
     },
     "execution_count": 125,
     "metadata": {},
     "output_type": "execute_result"
    }
   ],
   "source": [
    "# Como está a definição do problema\n",
    "max_z.writeLP"
   ]
  },
  {
   "cell_type": "code",
   "execution_count": 126,
   "id": "49eb6ece",
   "metadata": {},
   "outputs": [
    {
     "data": {
      "text/plain": [
       "'Not Solved'"
      ]
     },
     "execution_count": 126,
     "metadata": {},
     "output_type": "execute_result"
    }
   ],
   "source": [
    "# Checking\n",
    "LpStatus[max_z.status]"
   ]
  },
  {
   "cell_type": "code",
   "execution_count": 127,
   "id": "675e9c0a",
   "metadata": {},
   "outputs": [
    {
     "data": {
      "text/plain": [
       "1"
      ]
     },
     "execution_count": 127,
     "metadata": {},
     "output_type": "execute_result"
    }
   ],
   "source": [
    "# Resolução\n",
    "max_z.solve()"
   ]
  },
  {
   "cell_type": "code",
   "execution_count": 128,
   "id": "ca71f651",
   "metadata": {},
   "outputs": [
    {
     "data": {
      "text/plain": [
       "'Optimal'"
      ]
     },
     "execution_count": 128,
     "metadata": {},
     "output_type": "execute_result"
    }
   ],
   "source": [
    "# Checking\n",
    "LpStatus[max_z.status]"
   ]
  },
  {
   "cell_type": "code",
   "execution_count": 129,
   "id": "28986da8",
   "metadata": {},
   "outputs": [
    {
     "name": "stdout",
     "output_type": "stream",
     "text": [
      "Quantidade_de_A = 3.0\n",
      "Quantidade_de_B = 9.0\n"
     ]
    }
   ],
   "source": [
    "# Resultados\n",
    "for v in max_z.variables():\n",
    "    print(v.name, \"=\", v.varValue)"
   ]
  },
  {
   "cell_type": "code",
   "execution_count": 130,
   "id": "cf50a139",
   "metadata": {},
   "outputs": [
    {
     "name": "stdout",
     "output_type": "stream",
     "text": [
      "Maximizando a rentabilidade = $ 90.0\n"
     ]
    }
   ],
   "source": [
    "# Valor ótimo da função objetivo\n",
    "print(\"Maximizando a rentabilidade = $\", value(max_z.objective))"
   ]
  },
  {
   "cell_type": "code",
   "execution_count": null,
   "id": "04a6edbc",
   "metadata": {},
   "outputs": [],
   "source": []
  }
 ],
 "metadata": {
  "kernelspec": {
   "display_name": "Python 3 (ipykernel)",
   "language": "python",
   "name": "python3"
  },
  "language_info": {
   "codemirror_mode": {
    "name": "ipython",
    "version": 3
   },
   "file_extension": ".py",
   "mimetype": "text/x-python",
   "name": "python",
   "nbconvert_exporter": "python",
   "pygments_lexer": "ipython3",
   "version": "3.9.16"
  }
 },
 "nbformat": 4,
 "nbformat_minor": 5
}
