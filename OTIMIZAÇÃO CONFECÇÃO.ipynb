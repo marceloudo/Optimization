{
 "cells": [
  {
   "cell_type": "markdown",
   "id": "d84bbc65",
   "metadata": {},
   "source": [
    "# <font color='green'>Produção de Confecções</font>\n",
    "***\n",
    "Uma empresa de confecções que produz calças, saias, casacos e sobretudos pretende calcular o número de unidades de cada artigo, que maximiza a margem bruta e respeita o seguinte quadro de produção.\n",
    "\n",
    "|             | MP (metros) | MO (horas) | Máquinas (horas) | Margem Bruta (US) |\n",
    "|-------------|-------------|------------|------------------|------------------|\n",
    "| Calças (X)  | 3           | 2          | 2                | 500              |\n",
    "| Saias (Y)   | 2           | 2          | 1                | 350              |\n",
    "| Casacos (W) | 4           | 4          | 3                | 700              |\n",
    "| Sobretudos (Z) | 6        | 5          | 5                | 1000             |\n",
    "| Disponibilidades | 7000   | 6500       | 5000             |                  |\n"
   ]
  },
  {
   "cell_type": "markdown",
   "id": "7cd55457",
   "metadata": {},
   "source": [
    "## <font color=\"green\">Formulação do Problema</font>\n",
    "***\n",
    "1. X => Nº de Calças a produzir;\n",
    "2. Y => Nº de saias a produzir;\n",
    "3. W => Nº de casacos a produzir;\n",
    "4. T => Nº de sobretudos a produzir.\n",
    "\n",
    "Max Z = 500X + 350Y + 700W + 1000T\n",
    "\\begin{cases}\n",
    "3X & + & 2Y & + & 4W & + & 6T ≤ & 7000 & (MP)\\\\\n",
    "2X & + & 2Y & + & 4W & + & 5T ≤ & 6500 & (MO)\\\\\n",
    "2X & + & Y & + & 3W & + & 5T ≤ & 5000 & (MÁQUINAS)\\\\\n",
    "X, Y, W, T ≥ & 0\n",
    "\\end{cases}"
   ]
  },
  {
   "cell_type": "code",
   "execution_count": 18,
   "id": "017b9bbe",
   "metadata": {},
   "outputs": [],
   "source": [
    "from pulp import *"
   ]
  },
  {
   "cell_type": "code",
   "execution_count": 9,
   "id": "4b70de8c",
   "metadata": {},
   "outputs": [],
   "source": [
    "# Criação do problema de maximização\n",
    "prob = LpProblem(\"Maximização_Produção\", LpMaximize)"
   ]
  },
  {
   "cell_type": "code",
   "execution_count": 10,
   "id": "513cf1bf",
   "metadata": {},
   "outputs": [],
   "source": [
    "# Variáveis de decisão\n",
    "X = LpVariable(\"Produção de calças\", lowBound=0, cat='Integer')\n",
    "Y = LpVariable(\"Produção de saias\", lowBound=0, cat='Integer')\n",
    "W = LpVariable(\"Produção de casacos\", lowBound=0, cat='Integer')\n",
    "T = LpVariable(\"Produção de sobretudos\", lowBound=0, cat='Integer')"
   ]
  },
  {
   "cell_type": "code",
   "execution_count": 11,
   "id": "9ade22d6",
   "metadata": {},
   "outputs": [],
   "source": [
    "# Função objetivo\n",
    "prob += 500*X + 350*Y + 700*W + 1000*T"
   ]
  },
  {
   "cell_type": "code",
   "execution_count": 12,
   "id": "2a626053",
   "metadata": {},
   "outputs": [],
   "source": [
    "# Restrições\n",
    "prob += 3*X + 2*Y + 4*W + 6*T <= 7000  \n",
    "prob += 2*X + 2*Y + 4*W + 5*T <= 6500  \n",
    "prob += 2*X + Y + 3*W + 5*T <= 5000  \n"
   ]
  },
  {
   "cell_type": "code",
   "execution_count": 13,
   "id": "64295999",
   "metadata": {},
   "outputs": [
    {
     "data": {
      "text/plain": [
       "<bound method LpProblem.writeLP of Maximização_Produção:\n",
       "MAXIMIZE\n",
       "500*Produção_de_calças + 700*Produção_de_casacos + 350*Produção_de_saias + 1000*Produção_de_sobretudos + 0\n",
       "SUBJECT TO\n",
       "_C1: 3 Produção_de_calças + 4 Produção_de_casacos + 2 Produção_de_saias\n",
       " + 6 Produção_de_sobretudos <= 7000\n",
       "\n",
       "_C2: 2 Produção_de_calças + 4 Produção_de_casacos + 2 Produção_de_saias\n",
       " + 5 Produção_de_sobretudos <= 6500\n",
       "\n",
       "_C3: 2 Produção_de_calças + 3 Produção_de_casacos + Produção_de_saias\n",
       " + 5 Produção_de_sobretudos <= 5000\n",
       "\n",
       "VARIABLES\n",
       "0 <= Produção_de_calças Integer\n",
       "0 <= Produção_de_casacos Integer\n",
       "0 <= Produção_de_saias Integer\n",
       "0 <= Produção_de_sobretudos Integer\n",
       ">"
      ]
     },
     "execution_count": 13,
     "metadata": {},
     "output_type": "execute_result"
    }
   ],
   "source": [
    "# Como está a definição do problema\n",
    "prob.writeLP"
   ]
  },
  {
   "cell_type": "code",
   "execution_count": 14,
   "id": "85a69ef9",
   "metadata": {},
   "outputs": [
    {
     "data": {
      "text/plain": [
       "1"
      ]
     },
     "execution_count": 14,
     "metadata": {},
     "output_type": "execute_result"
    }
   ],
   "source": [
    "# Resolvendo o problema\n",
    "prob.solve()"
   ]
  },
  {
   "cell_type": "code",
   "execution_count": 15,
   "id": "8c3eed67",
   "metadata": {},
   "outputs": [
    {
     "name": "stdout",
     "output_type": "stream",
     "text": [
      "Status: Optimal\n"
     ]
    }
   ],
   "source": [
    "# Status da solução\n",
    "print(\"Status:\", LpStatus[prob.status])"
   ]
  },
  {
   "cell_type": "code",
   "execution_count": 16,
   "id": "6005dd44",
   "metadata": {},
   "outputs": [
    {
     "name": "stdout",
     "output_type": "stream",
     "text": [
      "Produção_de_calças = 500.0\n",
      "Produção_de_casacos = 1250.0\n",
      "Produção_de_saias = 250.0\n",
      "Produção_de_sobretudos = 0.0\n"
     ]
    }
   ],
   "source": [
    "# Resultados\n",
    "for v in prob.variables():\n",
    "    print(v.name, \"=\", v.varValue)"
   ]
  },
  {
   "cell_type": "code",
   "execution_count": 17,
   "id": "2c67577d",
   "metadata": {},
   "outputs": [
    {
     "name": "stdout",
     "output_type": "stream",
     "text": [
      "Rentabilidade anual = $ 1212500.00\n"
     ]
    }
   ],
   "source": [
    "# Valor ótimo da função objetivo\n",
    "print(\"Rentabilidade anual = $\", f\"{value(prob.objective):.2f}\")"
   ]
  },
  {
   "cell_type": "code",
   "execution_count": null,
   "id": "e9e937c2",
   "metadata": {},
   "outputs": [],
   "source": []
  }
 ],
 "metadata": {
  "kernelspec": {
   "display_name": "Python 3 (ipykernel)",
   "language": "python",
   "name": "python3"
  },
  "language_info": {
   "codemirror_mode": {
    "name": "ipython",
    "version": 3
   },
   "file_extension": ".py",
   "mimetype": "text/x-python",
   "name": "python",
   "nbconvert_exporter": "python",
   "pygments_lexer": "ipython3",
   "version": "3.9.16"
  }
 },
 "nbformat": 4,
 "nbformat_minor": 5
}
